{
 "cells": [
  {
   "cell_type": "code",
   "execution_count": 11,
   "id": "98d4e3ad-40cb-4ee1-a0c9-778de89ad3e4",
   "metadata": {},
   "outputs": [
    {
     "data": {
      "text/plain": [
       "'/Users/SMITHAJ/Library/CloudStorage/OneDrive-UW-EauClaire/Placement-MATHH'"
      ]
     },
     "execution_count": 11,
     "metadata": {},
     "output_type": "execute_result"
    }
   ],
   "source": [
    "pwd"
   ]
  },
  {
   "cell_type": "markdown",
   "id": "f03e423d-2032-44c7-a396-0049e7512d39",
   "metadata": {},
   "source": [
    "### [Power BI Dashboard](https://app.powerbi.com/links/AXTSE3kxoz?ctid=dd068b97-7593-4938-8b32-14faef2af1d8&pbi_source=linkShare)\n",
    "\n",
    "### [Math Review 2024](https://app.powerbi.com/groups/me/workbooks/1_50038_3504574/new?ctid=dd068b97-7593-4938-8b32-14faef2af1d8&experience=power-bi)\n"
   ]
  },
  {
   "cell_type": "code",
   "execution_count": 1,
   "id": "46d975e7-0d7d-4982-bd26-3a0ce539bae3",
   "metadata": {},
   "outputs": [],
   "source": [
    "import pandas as pd\n",
    "import holistic as h\n",
    "import holistic2 as hh"
   ]
  },
  {
   "cell_type": "markdown",
   "id": "d93a0c71-c385-4c6e-a301-6e8a796dcfe4",
   "metadata": {},
   "source": [
    "Download from Dashboard\n",
    " \n",
    " process to Reviewer spreadsheet so humans can enter SEN and MGPA\n",
    " \n",
    " processing includes determining unproctored or proctored placement level\n",
    " \n",
    " processing includes determining Math ACT from available data including Math SAT conversion\n",
    " \n",
    " results in Reviewer.xlsx update"
   ]
  },
  {
   "cell_type": "code",
   "execution_count": 15,
   "id": "eeb53d1d-9896-426b-be2e-43708e076644",
   "metadata": {},
   "outputs": [
    {
     "name": "stdout",
     "output_type": "stream",
     "text": [
      "Help on function H_none in module holistic2:\n",
      "\n",
      "H_none(gpa, mgpa, sen)\n",
      "    Determines MATHH with no ACT, no MPT. Uses mgpa and sen from transcript review.\n",
      "    \n",
      "    Parameters:\n",
      "    gpa (float): Overall gradepoint average (capped at 4).\n",
      "    mgpa (float): Math GPA calculated during transcript review.\n",
      "    sen (int): Assessment of senior year math achievement (0-10).\n",
      "    \n",
      "    Returns:\n",
      "    int: MATHH level.\n",
      "\n"
     ]
    },
    {
     "data": {
      "text/plain": [
       "6"
      ]
     },
     "execution_count": 15,
     "metadata": {},
     "output_type": "execute_result"
    }
   ],
   "source": [
    "help(hh.H_none)\n",
    "hh.H_none(3.69,3.5,6.5)"
   ]
  },
  {
   "cell_type": "code",
   "execution_count": 29,
   "id": "94b81627-f891-4939-a085-af29b4c3b79a",
   "metadata": {},
   "outputs": [],
   "source": [
    "# Read in data from Excel files\n",
    "sheetname=\"June 24\"\n",
    "dash = pd.read_excel(\"DashDown.xlsx\",sheet_name=sheetname)\n",
    "\n",
    "admit_plans=pd.read_excel(\"AdmitPlans.xlsx\")\n",
    "##admit_plans sorts majors according to expedited review status. This might have to be updated if a subsequent student has a plan not yet entered\n",
    "\n",
    "transcript_records = pd.read_excel('transcript_records.xlsx',sheet_name=sheetname)"
   ]
  },
  {
   "cell_type": "code",
   "execution_count": 30,
   "id": "42d4ba79-c3ee-417e-9947-4e74921b92b9",
   "metadata": {},
   "outputs": [],
   "source": [
    "#take dataframe from dashboard and perform some pre-processing involving columns\n",
    "reviewer=h.reviewer(dash)\n",
    "\n",
    "##add entries for SEN, MGPA, MATHH, MATHH_date, Reviewer Comment if previously existing\n",
    "reviewer=h.SEN_MGPA(reviewer,transcript_records)\n",
    "\n",
    "##add math act, converted from SAT if needed\n",
    "reviewer=h.act(reviewer)\n",
    "\n",
    "##add levels as determined by unproctored or proctored placement scores\n",
    "reviewer=h.reviewer_with_mpt(reviewer)\n",
    "\n",
    "##perform expedited review\n",
    "reviewer=h.expedite(reviewer, admit_plans)"
   ]
  },
  {
   "cell_type": "code",
   "execution_count": 31,
   "id": "19109f22-d8d7-4728-b1ab-2dc96fdf34f8",
   "metadata": {
    "editable": true,
    "slideshow": {
     "slide_type": ""
    },
    "tags": []
   },
   "outputs": [],
   "source": [
    "sheetname=\"June 21\"\n",
    "\n",
    "with pd.ExcelWriter(\"Reviewer.xlsx\", engine='openpyxl', mode='a',if_sheet_exists='replace') as writer:\n",
    "    reviewer.to_excel(writer, sheet_name=sheetname, index=False)"
   ]
  },
  {
   "cell_type": "markdown",
   "id": "52130e17-d2b3-429f-91d9-8225bd94cf06",
   "metadata": {},
   "source": [
    "For use after Reviewer is updated by humans entering SEN and MACT\n",
    "\n",
    "determine review type \n",
    "\n",
    "determine MATHH level, including update of dates\n",
    "\n",
    "Results in update to main spreadsheet Math Review 2024.xlsx"
   ]
  },
  {
   "cell_type": "code",
   "execution_count": 48,
   "id": "144c0275-e40b-46ee-9ab7-b2f648324b4c",
   "metadata": {},
   "outputs": [],
   "source": [
    "sheetname=\"June 21\"\n",
    "\n",
    "reviewer = pd.read_excel(\"Reviewer.xlsx\",sheet_name=sheetname)"
   ]
  },
  {
   "cell_type": "code",
   "execution_count": 50,
   "id": "9e1b063e-d7d7-405a-912e-8f850b3acee3",
   "metadata": {},
   "outputs": [],
   "source": [
    "levels=hh.type(reviewer)\n",
    "levels=hh.mathh(levels)"
   ]
  },
  {
   "cell_type": "code",
   "execution_count": 58,
   "id": "f9c2f3c9-f002-4b79-84c0-0c247395eb35",
   "metadata": {},
   "outputs": [],
   "source": [
    " # Path to the existing Excel file\n",
    "existing_file = 'Math Review 2024.xlsx'\n",
    "\n",
    "\n",
    "\n",
    "# Write the dataframe to a new sheet in the existing Excel file\n",
    "with pd.ExcelWriter(existing_file, engine='openpyxl', mode='a',if_sheet_exists='replace') as writer:\n",
    "    levels.to_excel(writer, sheet_name=sheetname, index=False)\n",
    "\n",
    "\n",
    "#update transcript_records.xlsx\n",
    "transcript_records=levels[['Emplid', 'SEN', 'MGPA','Holistic Level','MATHH','MATHH_date','Reviewer Comment']]\n",
    "with pd.ExcelWriter(\"transcript_records.xlsx\", engine='openpyxl', mode='a',if_sheet_exists='replace') as writer:\n",
    "    transcript_records.to_excel(writer, sheet_name=sheetname, index=False)"
   ]
  },
  {
   "cell_type": "code",
   "execution_count": null,
   "id": "31ce46a7-b392-4f6b-bc08-3d8d7b523749",
   "metadata": {},
   "outputs": [],
   "source": [
    "springboard=pd.read_excel(existing_file, sheet_name=sheetname)\n",
    "\n",
    "# Convert 'Emplid' columns to the same type (string in this case)\n",
    "levels['Emplid'] = levels['Emplid'].astype(str)\n",
    "springboard['Emplid'] = springboard['Emplid'].astype(str)\n",
    "levels = levels.merge(springboard[['Emplid', 'Springboard eligible?', 'Springboard email sent?']], on='Emplid', how='left')\n",
    "\n",
    "# New column order\n",
    "new_columns = ['Emplid', 'Preferred Name', 'Plan', 'Appt', 'Expedited', 'SEN', 'MGPA',\n",
    "               'Reviewer Comment', 'GPA', 'MACT', 'MFUND', 'AALG', 'TAG', 'unproc_MPT',\n",
    "               'Unproc_date', 'WPT MFND', 'WPT AALG', 'WPT TAG', 'proc_MPT',\n",
    "               'Holistic Level', 'MATHH', 'MATHH_date', 'Review Type', 'Email', 'Email Other',\n",
    "               'Springboard eligible?', 'Springboard email sent?']\n",
    "\n",
    "# Reorder the DataFrame\n",
    "levels = levels[new_columns]\n",
    "\n",
    "# Write the dataframe to a new sheet in the existing Excel file\n",
    "with pd.ExcelWriter(existing_file, engine='openpyxl', mode='a',if_sheet_exists='replace') as writer:\n",
    "    levels.to_excel(writer, sheet_name=sheetname, index=False)\n"
   ]
  },
  {
   "cell_type": "code",
   "execution_count": 21,
   "id": "0b9c5dcb-7651-4562-9374-3969d87efdf8",
   "metadata": {},
   "outputs": [],
   "source": [
    "# pd.set_option('display.max_rows', None)\n",
    "# levels"
   ]
  },
  {
   "cell_type": "code",
   "execution_count": 22,
   "id": "202884d0-a296-4290-8a78-eee2c9775190",
   "metadata": {},
   "outputs": [],
   "source": [
    "# transcript_records=levels[['Emplid', 'SEN', 'MGPA','Holistic Level','MATHH','MATHH_date','Reviewer Comment']]\n",
    "# with pd.ExcelWriter(\"transcript_records.xlsx\", engine='openpyxl', mode='a',if_sheet_exists='replace') as writer:\n",
    "#     transcript_records.to_excel(writer, sheet_name=sheetname, index=False)"
   ]
  },
  {
   "cell_type": "code",
   "execution_count": null,
   "id": "2c53a199-76ae-4f46-884d-01a12f6643fb",
   "metadata": {},
   "outputs": [],
   "source": []
  }
 ],
 "metadata": {
  "kernelspec": {
   "display_name": "Python 3 (ipykernel)",
   "language": "python",
   "name": "python3"
  },
  "language_info": {
   "codemirror_mode": {
    "name": "ipython",
    "version": 3
   },
   "file_extension": ".py",
   "mimetype": "text/x-python",
   "name": "python",
   "nbconvert_exporter": "python",
   "pygments_lexer": "ipython3",
   "version": "3.11.7"
  }
 },
 "nbformat": 4,
 "nbformat_minor": 5
}
