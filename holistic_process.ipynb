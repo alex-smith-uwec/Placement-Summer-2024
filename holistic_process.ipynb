{
 "cells": [
  {
   "cell_type": "code",
   "execution_count": 1,
   "id": "98d4e3ad-40cb-4ee1-a0c9-778de89ad3e4",
   "metadata": {},
   "outputs": [
    {
     "data": {
      "text/plain": [
       "'/Users/SMITHAJ/Library/CloudStorage/OneDrive-UW-EauClaire/Placement-MATHH'"
      ]
     },
     "execution_count": 1,
     "metadata": {},
     "output_type": "execute_result"
    }
   ],
   "source": [
    "pwd"
   ]
  },
  {
   "cell_type": "markdown",
   "id": "f03e423d-2032-44c7-a396-0049e7512d39",
   "metadata": {},
   "source": [
    "### [Power BI Dashboard](https://app.powerbi.com/links/AXTSE3kxoz?ctid=dd068b97-7593-4938-8b32-14faef2af1d8&pbi_source=linkShare)\n",
    "\n",
    "### [Math Review 2024](https://app.powerbi.com/groups/me/workbooks/1_50038_3504574/new?ctid=dd068b97-7593-4938-8b32-14faef2af1d8&experience=power-bi)\n"
   ]
  },
  {
   "cell_type": "code",
   "execution_count": 3,
   "id": "46d975e7-0d7d-4982-bd26-3a0ce539bae3",
   "metadata": {},
   "outputs": [],
   "source": [
    "import pandas as pd\n",
    "import holistic as h\n",
    "import holistic2 as hh"
   ]
  },
  {
   "cell_type": "markdown",
   "id": "d93a0c71-c385-4c6e-a301-6e8a796dcfe4",
   "metadata": {},
   "source": [
    "Download from Dashboard\n",
    " \n",
    " process to Reviewer spreadsheet so humans can enter SEN and MGPA\n",
    " \n",
    " processing includes determining unproctored or proctored placement level\n",
    " \n",
    " processing includes determining Math ACT from available data including Math SAT conversion\n",
    " \n",
    " results in Reviewer.xlsx update"
   ]
  },
  {
   "cell_type": "code",
   "execution_count": 4,
   "id": "94b81627-f891-4939-a085-af29b4c3b79a",
   "metadata": {},
   "outputs": [],
   "source": [
    "# Read in data from Excel file\n",
    "sheetname=\"foo\"\n",
    "dash = pd.read_excel(\"DashDown.xlsx\",sheet_name=sheetname)\n",
    "admit_plans=pd.read_excel(\"AdmitPlans.xlsx\")"
   ]
  },
  {
   "cell_type": "code",
   "execution_count": 2,
   "id": "42d4ba79-c3ee-417e-9947-4e74921b92b9",
   "metadata": {},
   "outputs": [],
   "source": [
    "#take dataframe from dashboard and perform some pre-processing involving columns\n",
    "reviewer=h.reviewer(dash)\n",
    "\n",
    "##add math act, converted from SAT if needed\n",
    "reviewer=h.act(reviewer)\n",
    "\n",
    "##add levels as determined by unproctored or proctored placement scores\n",
    "reviewer=h.reviewer_with_mpt(reviewer)\n",
    "\n",
    "##perform expedited review\n",
    "reviewer=h.expedite(reviewer, admit_plans)"
   ]
  },
  {
   "cell_type": "code",
   "execution_count": 3,
   "id": "19109f22-d8d7-4728-b1ab-2dc96fdf34f8",
   "metadata": {},
   "outputs": [],
   "source": [
    "sheetname=\"bar\"\n",
    "reviewer.to_excel(\"Reviewer.xlsx\",sheet_name=sheetname, index=False)"
   ]
  },
  {
   "cell_type": "code",
   "execution_count": null,
   "id": "0802e5f3-e032-4f74-ba13-3c3d5a679e20",
   "metadata": {},
   "outputs": [],
   "source": []
  },
  {
   "cell_type": "markdown",
   "id": "52130e17-d2b3-429f-91d9-8225bd94cf06",
   "metadata": {},
   "source": [
    "For use after Reviewer is updated by humans entering SEN and MACT\n",
    "\n",
    "determine review type \n",
    "\n",
    "determine MATHH level, including update of dates\n",
    "\n",
    "Results in update to main spreadsheet Math Review 2024.xlsx"
   ]
  },
  {
   "cell_type": "code",
   "execution_count": 15,
   "id": "144c0275-e40b-46ee-9ab7-b2f648324b4c",
   "metadata": {},
   "outputs": [],
   "source": [
    "sheetname=\"baz\"\n",
    "\n",
    "reviewer = pd.read_excel(\"Reviewer.xlsx\",sheet_name=sheetname)"
   ]
  },
  {
   "cell_type": "code",
   "execution_count": 16,
   "id": "9e1b063e-d7d7-405a-912e-8f850b3acee3",
   "metadata": {},
   "outputs": [],
   "source": [
    "levels=hh.type(reviewer)\n",
    "levels=hh.mathh(levels)"
   ]
  },
  {
   "cell_type": "code",
   "execution_count": 19,
   "id": "f9c2f3c9-f002-4b79-84c0-0c247395eb35",
   "metadata": {},
   "outputs": [],
   "source": [
    " \n",
    "new_sheet_name = \"qux\"\n",
    "# Path to the existing Excel file\n",
    "existing_file = 'Math Review 2024.xlsx'\n",
    "\n",
    "\n",
    "# Write the dataframe to a new sheet in the existing Excel file\n",
    "with pd.ExcelWriter(existing_file, engine='openpyxl', mode='a') as writer:\n",
    "    levels.to_excel(writer, sheet_name=new_sheet_name, index=False)\n"
   ]
  },
  {
   "cell_type": "code",
   "execution_count": null,
   "id": "acc2abc3-5a1c-4f09-852d-c984020687fb",
   "metadata": {},
   "outputs": [],
   "source": []
  }
 ],
 "metadata": {
  "kernelspec": {
   "display_name": "Python 3 (ipykernel)",
   "language": "python",
   "name": "python3"
  },
  "language_info": {
   "codemirror_mode": {
    "name": "ipython",
    "version": 3
   },
   "file_extension": ".py",
   "mimetype": "text/x-python",
   "name": "python",
   "nbconvert_exporter": "python",
   "pygments_lexer": "ipython3",
   "version": "3.11.7"
  }
 },
 "nbformat": 4,
 "nbformat_minor": 5
}
